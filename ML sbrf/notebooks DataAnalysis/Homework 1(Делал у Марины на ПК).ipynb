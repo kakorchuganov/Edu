{
 "cells": [
  {
   "cell_type": "markdown",
   "metadata": {},
   "source": [
    "# <center> Homework 1 (Topics 1-4: Data Structures, Indexing, Cleaning Data, Math)"
   ]
  },
  {
   "cell_type": "code",
   "execution_count": 157,
   "metadata": {
    "ExecuteTime": {
     "end_time": "2019-02-11T12:32:15.107156Z",
     "start_time": "2019-02-11T12:32:14.959796Z"
    }
   },
   "outputs": [],
   "source": [
    "import pandas as pd\n",
    "import numpy as np\n",
    "\n",
    "import matplotlib.pyplot as plt"
   ]
  },
  {
   "cell_type": "markdown",
   "metadata": {},
   "source": [
    "#### Task 1. \n",
    "Задание:\n",
    "1. Создайте Series из последовательности 15 значений, равномерно разбивающих отрезок [0, 20]. \n",
    "2. Определите отношение элементов полученной серии к их предыдущим элементам (\\*). \n",
    "3. В результате необходимо получить среднее полученного вектора, оставив в нём только те значения, которые не более чем 1.5 (\\**). \n",
    "\n",
    "Выберите из ответов тот, который максимально близок к полученному (c точки зрения абсолютной разницы).\n",
    "\n",
    "#### Варианты ответов:\n",
    "    - 1) 1.24\n",
    "    - 2) 1.18\n",
    "    - 3) 0.71\n",
    "    - 4) 1.13\n",
    "\n",
    "Ответ: 2\n",
    "\n",
    "##### Пояснения:\n",
    "(\\*) Если было бы необходимо найти последовательность из 3-х значений,  \n",
    "равномерно разбивающих отрезок [0,1], то это были бы значения [0, 0.5, 1]. \n",
    "\n",
    "(\\**) Если был бы дан список элементов a = [1,2,3,12], отношения элементов к предыдущим будут равны [NaN, 2, 1.5, 4].  \n",
    "А на последнем этапе в таком примере останется только [1.5] и среднее значение будет также 1.5."
   ]
  },
  {
   "cell_type": "code",
   "execution_count": 38,
   "metadata": {},
   "outputs": [
    {
     "name": "stderr",
     "output_type": "stream",
     "text": [
      "C:\\ProgramData\\Anaconda3\\lib\\site-packages\\ipykernel_launcher.py:4: RuntimeWarning: divide by zero encountered in true_divide\n",
      "  after removing the cwd from sys.path.\n"
     ]
    },
    {
     "data": {
      "text/plain": [
       "0    1.181678\n",
       "dtype: float64"
      ]
     },
     "execution_count": 38,
     "metadata": {},
     "output_type": "execute_result"
    }
   ],
   "source": [
    "### Type your code here\n",
    "a = pd.Series(np.linspace(0, 20, 15))\n",
    "#print(a)\n",
    "dev = pd.DataFrame(np.array(a[1:])/np.array(a[:-1]))\n",
    "dev[dev<=1.5].mean()"
   ]
  },
  {
   "cell_type": "markdown",
   "metadata": {},
   "source": [
    "#### Task 2. \n",
    "Выберите все верные ответы касательно следующих 3-х Series:\n",
    "    - pd.Series('abcde'); (1) \n",
    "    - pd.Series(['abcde']); (2) \n",
    "    - pd.Series(list('abcde')); (3)\n",
    "    - pd.Series(\"abcde\"); (4)\n",
    "\n",
    "#### Вопросы:\n",
    "    - 1) Серия (1) совпадает с серией (2), так как в каждом из случаев серия создаётся из списка строк \n",
    "    - 2) Серия (2) совпадает с серией (3), так как в каждом из случаев серия создаётся из списка символов \n",
    "    - 3) Серия (1) не совпадает с серией (4), так как в (4) используются двойные кавычки \"\" вместо одинарных '' \n",
    "    \n",
    "    Ответ: 1,3/ Почемуто не правильно, ответил только 1"
   ]
  },
  {
   "cell_type": "code",
   "execution_count": 40,
   "metadata": {},
   "outputs": [
    {
     "name": "stdout",
     "output_type": "stream",
     "text": [
      "1:  0    abcde\n",
      "dtype: object\n",
      "2:  0    abcde\n",
      "dtype: object\n",
      "3:  0    a\n",
      "1    b\n",
      "2    c\n",
      "3    d\n",
      "4    e\n",
      "dtype: object\n",
      "4:  0    abcde\n",
      "dtype: object\n"
     ]
    }
   ],
   "source": [
    "print('1: ', pd.Series('abcde'))\n",
    "print('2: ', pd.Series(['abcde']))\n",
    "print('3: ', pd.Series(list('abcde')))\n",
    "print('4: ', pd.Series(\"abcde\"))"
   ]
  },
  {
   "cell_type": "markdown",
   "metadata": {},
   "source": [
    "#### Task 3. \n",
    "Для заданного ниже объекта s типа Series проделайте следующее:\n",
    "1. Создайте новый Series, значения которого совпадают со значениями s, а индексы - целочисленные значения от 2 до 12. \n",
    "2. Выберите из s элементы с индексами 3 и 5, после чего просуммируйте их, сохранив результат (1). \n",
    "3. Выберите из s только целочисленные элементы и вычислите их дисперсию (2). (\\*)\n",
    "\n",
    "Все полученные результаты округлите до 2-х знаков после запятой.\n",
    "\n",
    "#### Выберите все верные пункты:\n",
    "    - 1) Ответ (1) - 642.52\n",
    "    - 2) Ответ (1) - 91.78\n",
    "    - 3) Ответ (1) - не может быть определён\n",
    "    - 4) Ответ (2) - 57591.19\n",
    "    - 5) Ответ (2) - 210.12\n",
    "    - 6) Ответ (2) - не может быть определён\n",
    "\n",
    "##### Пояснения:\n",
    "(\\*) Целочисленные значения - значения, имеющие тип int.\n",
    "\n",
    "Ответ: Первый ответ - 3, второй ответ 4 или  76788.25"
   ]
  },
  {
   "cell_type": "code",
   "execution_count": 43,
   "metadata": {},
   "outputs": [],
   "source": [
    "s = pd.Series(data=['1', 2, 3.1, 'hi!', 5, -512, 12.42, 'sber', 10.10, 98], \n",
    "              index=range(6, 26, 2))\n",
    "### Type your code here"
   ]
  },
  {
   "cell_type": "code",
   "execution_count": 59,
   "metadata": {},
   "outputs": [
    {
     "data": {
      "text/plain": [
       "2         1\n",
       "3         2\n",
       "4       3.1\n",
       "5       hi!\n",
       "6         5\n",
       "7      -512\n",
       "8     12.42\n",
       "9      sber\n",
       "10     10.1\n",
       "11       98\n",
       "dtype: object"
      ]
     },
     "execution_count": 59,
     "metadata": {},
     "output_type": "execute_result"
    }
   ],
   "source": [
    "SS = s.copy()\n",
    "SS.index = range(2, 12, 1)\n",
    "SS"
   ]
  },
  {
   "cell_type": "code",
   "execution_count": 94,
   "metadata": {},
   "outputs": [
    {
     "ename": "TypeError",
     "evalue": "unsupported operand type(s) for +: 'int' and 'str'",
     "output_type": "error",
     "traceback": [
      "\u001b[1;31m---------------------------------------------------------------------------\u001b[0m",
      "\u001b[1;31mTypeError\u001b[0m                                 Traceback (most recent call last)",
      "\u001b[1;32m<ipython-input-94-edc113bc2b99>\u001b[0m in \u001b[0;36m<module>\u001b[1;34m\u001b[0m\n\u001b[1;32m----> 1\u001b[1;33m \u001b[0mprint\u001b[0m\u001b[1;33m(\u001b[0m\u001b[0mSS\u001b[0m\u001b[1;33m[\u001b[0m\u001b[1;36m3\u001b[0m\u001b[1;33m]\u001b[0m\u001b[1;33m+\u001b[0m\u001b[0mSS\u001b[0m\u001b[1;33m[\u001b[0m\u001b[1;36m5\u001b[0m\u001b[1;33m]\u001b[0m\u001b[1;33m)\u001b[0m\u001b[1;33m\u001b[0m\u001b[1;33m\u001b[0m\u001b[0m\n\u001b[0m\u001b[0;32m      2\u001b[0m \u001b[0mprint\u001b[0m\u001b[1;33m(\u001b[0m\u001b[0mSS\u001b[0m\u001b[1;33m.\u001b[0m\u001b[0miloc\u001b[0m\u001b[1;33m[\u001b[0m\u001b[1;36m3\u001b[0m\u001b[1;33m]\u001b[0m\u001b[1;33m+\u001b[0m\u001b[0mSS\u001b[0m\u001b[1;33m.\u001b[0m\u001b[0miloc\u001b[0m\u001b[1;33m[\u001b[0m\u001b[1;36m5\u001b[0m\u001b[1;33m]\u001b[0m\u001b[1;33m)\u001b[0m\u001b[1;33m\u001b[0m\u001b[1;33m\u001b[0m\u001b[0m\n",
      "\u001b[1;31mTypeError\u001b[0m: unsupported operand type(s) for +: 'int' and 'str'"
     ]
    }
   ],
   "source": [
    "print(SS[3]+SS[5])\n",
    "print(SS.iloc[3]+SS.iloc[5])"
   ]
  },
  {
   "cell_type": "code",
   "execution_count": 115,
   "metadata": {},
   "outputs": [
    {
     "data": {
      "text/plain": [
       "76788.25"
      ]
     },
     "execution_count": 115,
     "metadata": {},
     "output_type": "execute_result"
    }
   ],
   "source": [
    "SS[SS.map(lambda x: isinstance(x, int)) == True].var()"
   ]
  },
  {
   "cell_type": "markdown",
   "metadata": {},
   "source": [
    "#### Task 4. \n",
    "1. Сгенерируйте Series из 100 значений нормально распределённой СВ (np.random.normal с дефолтными параметрами - нулевым средним и единичной дисперсией).\n",
    "2. Возведите каждое значение серии в 3 степень, а значения индекса увеличьте в 3 раза. \n",
    "3. Ответьте на следующие вопросы через запятую (без пробелов) (\\*)\n",
    "    - 1) Выведите сумму элементов, строго меньших 2.6, имеющих нечётные значения индекса.\n",
    "    - 2) Выведите количество значений серии меньше нуля. \n",
    "\n",
    "#### Пояснения:\n",
    "(\\*) Если получились ответы 3, 4.32, то в форму необходимо внести их в виде \"3,4.32\". То есть вещественные числа необходимо разделять точками. Не забудьте про фиксированный seed (его менять не нужно)!\n",
    "\n",
    "#### Ответ\n",
    "Без пробелов\n",
    "-15.150748101821666,51\n",
    "\n",
    "-15.15,51"
   ]
  },
  {
   "cell_type": "code",
   "execution_count": 387,
   "metadata": {},
   "outputs": [],
   "source": [
    "np.random.seed(242)\n",
    "### Type your code here"
   ]
  },
  {
   "cell_type": "code",
   "execution_count": 405,
   "metadata": {},
   "outputs": [
    {
     "data": {
      "text/plain": [
       "-15.150748101821666"
      ]
     },
     "execution_count": 405,
     "metadata": {},
     "output_type": "execute_result"
    }
   ],
   "source": [
    "np.random.seed(242)\n",
    "df = pd.Series(np.random.normal(size=100))\n",
    "df = df**3\n",
    "df.index = df.index * 3\n",
    "df[(df<2.6) & (df.index % 2 != 0)].sum()"
   ]
  },
  {
   "cell_type": "code",
   "execution_count": 370,
   "metadata": {},
   "outputs": [
    {
     "data": {
      "text/plain": [
       "<matplotlib.axes._subplots.AxesSubplot at 0x1d6779b0>"
      ]
     },
     "execution_count": 370,
     "metadata": {},
     "output_type": "execute_result"
    },
    {
     "data": {
      "image/png": "[encoded data removed]",
      "text/plain": [
       "<Figure size 432x288 with 1 Axes>"
      ]
     },
     "metadata": {
      "needs_background": "light"
     },
     "output_type": "display_data"
    }
   ],
   "source": [
    "df.hist(bins = 50)"
   ]
  },
  {
   "cell_type": "code",
   "execution_count": 391,
   "metadata": {},
   "outputs": [
    {
     "data": {
      "text/plain": [
       "-15.150748101821666"
      ]
     },
     "execution_count": 391,
     "metadata": {},
     "output_type": "execute_result"
    }
   ],
   "source": [
    "df[(df<2.6) & (df.index % 2 != 0)].sum()"
   ]
  },
  {
   "cell_type": "code",
   "execution_count": 400,
   "metadata": {},
   "outputs": [
    {
     "data": {
      "text/plain": [
       "51"
      ]
     },
     "execution_count": 400,
     "metadata": {},
     "output_type": "execute_result"
    }
   ],
   "source": [
    "df[df<0].count()"
   ]
  },
  {
   "cell_type": "code",
   "execution_count": 163,
   "metadata": {},
   "outputs": [
    {
     "data": {
      "text/plain": [
       "3      -1.137788\n",
       "9      -0.110910\n",
       "15     -4.920182\n",
       "21     -0.100865\n",
       "27     -0.579507\n",
       "33      0.001126\n",
       "39      0.000047\n",
       "45     -1.298140\n",
       "51      0.049872\n",
       "57     -8.591513\n",
       "63     -0.626452\n",
       "69     -1.747523\n",
       "75     -0.045085\n",
       "81     -0.008909\n",
       "87      0.024548\n",
       "93      0.006453\n",
       "99      0.004204\n",
       "105    -0.248976\n",
       "111    -0.373946\n",
       "117    -0.026527\n",
       "123     2.104312\n",
       "129    -0.216237\n",
       "135   -14.246302\n",
       "141     0.218771\n",
       "153     0.251113\n",
       "159    -0.001349\n",
       "165    -0.029535\n",
       "171     0.233003\n",
       "183     0.516176\n",
       "189    -0.078519\n",
       "195     0.023176\n",
       "201     0.576432\n",
       "207    -1.209891\n",
       "219     0.000796\n",
       "225    -0.988916\n",
       "231     0.046976\n",
       "237    -2.009766\n",
       "243     0.475272\n",
       "249    -0.419726\n",
       "255    -0.123751\n",
       "261     1.392056\n",
       "267    -0.005890\n",
       "273    -8.212626\n",
       "279     1.573079\n",
       "285    -0.416105\n",
       "291    -0.000399\n",
       "297    -1.579611\n",
       "dtype: float64"
      ]
     },
     "execution_count": 163,
     "metadata": {},
     "output_type": "execute_result"
    }
   ],
   "source": []
  },
  {
   "cell_type": "markdown",
   "metadata": {},
   "source": [
    "### Информация для последующих заданий\n",
    "- Для всех последующих заданий будем использовать обезличенные транзакционные банковские данные. Для этого считайте в переменные tr_mcc_codes, tr_types, transactions и gender_train из одноимённых таблиц из папки data. Для таблицы transactions используйте только первые n=1000000 строк. Обратите внимание на разделители внутри каждого из файлов - они могут различаться!"
   ]
  },
  {
   "cell_type": "code",
   "execution_count": null,
   "metadata": {},
   "outputs": [],
   "source": [
    "### Type your code here"
   ]
  },
  {
   "cell_type": "markdown",
   "metadata": {},
   "source": [
    "## Описание данных\n",
    "### Таблица ```transactions.csv```\n",
    "##### Описание\n",
    "Таблица содержит историю транзакций клиентов банка за один год и три месяца.\n",
    "\n",
    "##### Формат данных\n",
    "\n",
    "```\n",
    "customer_id,tr_datetime,mcc_code,tr_type,amount,term_id\n",
    "111111,15 01:40:52,1111,1000,-5224,111111\n",
    "111112,15 15:18:32,3333,2000,-100,11122233\n",
    "...\n",
    "```\n",
    "##### Описание полей\n",
    "\n",
    " - ```customer_id``` — идентификатор клиента;\n",
    " - ```tr_datetime``` — день и время совершения транзакции (дни нумеруются с начала данных);\n",
    " - ```mcc_code``` — mcc-код транзакции;\n",
    " - ```tr_type``` — тип транзакции;\n",
    " - ```amount``` — сумма транзакции в условных единицах со знаком; ```+``` — начисление средств клиенту (приходная транзакция), ```-``` — списание средств (расходная транзакция);\n",
    " - ```term_id``` — идентификатор терминала;\n",
    "\n",
    "\n",
    "### Таблица ```gender_train.csv```\n",
    "\n",
    "##### Описание\n",
    "Данная таблица содержит информацию по полу для части клиентов, для которых он известен. Для остальных клиентов пол неизвестен.\n",
    "\n",
    "##### Формат данных\n",
    "```\n",
    "customer_id,gender\n",
    "111111,0\n",
    "111112,1\n",
    "...\n",
    "```\n",
    "\n",
    "##### Описание полей\n",
    " - ```customer_id``` — идентификатор клиента;\n",
    " - ```gender``` — пол клиента;\n",
    "\n",
    "### Таблица ```tr_mcc_codes.csv```\n",
    "\n",
    "##### Описание\n",
    "Данная таблица содержит описание mcc-кодов транзакций.\n",
    "\n",
    "##### Формат данных\n",
    "```\n",
    "mcc_code;mcc_description\n",
    "1000;словесное описание mcc-кода 1000\n",
    "2000;словесное описание mcc-кода 2000\n",
    "...\n",
    "```\n",
    "\n",
    "##### Описание полей\n",
    " - ```mcc_code``` – mcc-код транзакции;\n",
    " - ```mcc_description``` — описание mcc-кода транзакции.\n",
    "\n",
    "### Таблица ```tr_types.csv```\n",
    "\n",
    "##### Описание\n",
    "Данная таблица содержит описание типов транзакций.\n",
    "\n",
    "##### Формат данных\n",
    "```\n",
    "tr_type;tr_description\n",
    "1000;словесное описание типа транзакции 1000\n",
    "2000;словесное описание типа транзакции 2000\n",
    "...\n",
    "```\n",
    "\n",
    "##### Описание полей\n",
    " - ```tr_type``` – тип транзакции;\n",
    " - ```tr_description``` — описание типа транзакции;"
   ]
  },
  {
   "cell_type": "markdown",
   "metadata": {},
   "source": [
    "#### Task 5.\n",
    "1. В tr_types выберите произвольные 100 строк с помощью метода sample (указав при этом random_seed равный 242)\n",
    "2. В полученной на предыдущем этапе подвыборке найдите долю наблюдений (стобец tr_description), в которой содержится подстрока 'плата' (в любом регистре). (\\*)\n",
    "\n",
    "Выведите ответ в виде вещественного числа, округлённого до двух знаков после запятой, отделив дробную часть точкой в формате \"123.45\"\n",
    "\n",
    "##### Пояснения:\n",
    "(\\*) Строки \"ПлатА за аренду\", \"ПлатАза аренду\", \"ПЛАТА\" удовлетворяют условию, так как будучи переведёнными в нижний регистр содержат подстроку \"плата\".\n",
    "\n",
    "#### Ответ \n",
    "0.26\n"
   ]
  },
  {
   "cell_type": "code",
   "execution_count": 234,
   "metadata": {
    "scrolled": true
   },
   "outputs": [],
   "source": [
    "### Type your code here\n",
    "np.random.seed(242)\n",
    "tr_types = pd.read_csv(\"Python And Data Analysis/data/tr_types.csv\", sep = ';').sample(n=100, random_state=242)\n",
    "tr_types['tr_description'] = tr_types['tr_description'].map(lambda x: x.lower())\n",
    "tr_types['pay'] = tr_types['tr_description'].map(lambda x: \"плата\" in x) "
   ]
  },
  {
   "cell_type": "code",
   "execution_count": 257,
   "metadata": {},
   "outputs": [
    {
     "data": {
      "text/plain": [
       "False    0.74\n",
       "True     0.26\n",
       "Name: pay, dtype: float64"
      ]
     },
     "execution_count": 257,
     "metadata": {},
     "output_type": "execute_result"
    }
   ],
   "source": [
    "tr_types['pay'].value_counts(normalize = True)"
   ]
  },
  {
   "cell_type": "markdown",
   "metadata": {},
   "source": [
    "#### Task 6. \n",
    "1. Для поля tr_type датафрейма transactions посчитайте частоту встречаемости всех типов транзакций tr_type в transactions.\n",
    "2. Из перечисленных вариантов выберите те, которые попали в топ-5 транзакций по частоте встречаемости.\n",
    "\n",
    "#### Выберите все верные пункты:\n",
    "    - 1) Выдача наличных в АТМ Сбербанк России \n",
    "    - 2) Комиссия за обслуживание ссудного счета\n",
    "    - 3) Списание по требованию\t\n",
    "    - 4) Оплата услуги. Банкоматы СБ РФ \n",
    "    - 5) Погашение кредита (в пределах одного филиала)\n",
    "    - 6) Покупка. POS ТУ СБ РФ \n",
    "#### Ответ:\n",
    "6, 1, 4, \n",
    "\n"
   ]
  },
  {
   "cell_type": "code",
   "execution_count": 349,
   "metadata": {},
   "outputs": [],
   "source": [
    "### Type your code here\n",
    "transact = pd.read_csv(\"Python And Data Analysis/data/transactions.csv\", sep = ',', nrows = 1000000, usecols = ['tr_type', 'customer_id','amount','mcc_code'] )"
   ]
  },
  {
   "cell_type": "code",
   "execution_count": 290,
   "metadata": {},
   "outputs": [
    {
     "data": {
      "text/plain": [
       "1010    231117\n",
       "2010    151166\n",
       "7070    149006\n",
       "1110    137658\n",
       "1030    118975\n",
       "Name: tr_type, dtype: int64"
      ]
     },
     "execution_count": 290,
     "metadata": {},
     "output_type": "execute_result"
    }
   ],
   "source": [
    "transact['tr_type'].value_counts().head(5)\n"
   ]
  },
  {
   "cell_type": "code",
   "execution_count": 291,
   "metadata": {},
   "outputs": [
    {
     "data": {
      "text/html": [
       "<div>\n",
       "<style scoped>\n",
       "    .dataframe tbody tr th:only-of-type {\n",
       "        vertical-align: middle;\n",
       "    }\n",
       "\n",
       "    .dataframe tbody tr th {\n",
       "        vertical-align: top;\n",
       "    }\n",
       "\n",
       "    .dataframe thead th {\n",
       "        text-align: right;\n",
       "    }\n",
       "</style>\n",
       "<table border=\"1\" class=\"dataframe\">\n",
       "  <thead>\n",
       "    <tr style=\"text-align: right;\">\n",
       "      <th></th>\n",
       "      <th>tr_type</th>\n",
       "      <th>tr_description</th>\n",
       "    </tr>\n",
       "  </thead>\n",
       "  <tbody>\n",
       "    <tr>\n",
       "      <th>59</th>\n",
       "      <td>7070</td>\n",
       "      <td>Перевод на карту (с карты) через Мобильный бан...</td>\n",
       "    </tr>\n",
       "    <tr>\n",
       "      <th>98</th>\n",
       "      <td>1010</td>\n",
       "      <td>Покупка. POS ТУ СБ РФ</td>\n",
       "    </tr>\n",
       "    <tr>\n",
       "      <th>99</th>\n",
       "      <td>1030</td>\n",
       "      <td>Оплата услуги. Банкоматы СБ РФ</td>\n",
       "    </tr>\n",
       "    <tr>\n",
       "      <th>101</th>\n",
       "      <td>1110</td>\n",
       "      <td>Покупка. POS ТУ Россия</td>\n",
       "    </tr>\n",
       "    <tr>\n",
       "      <th>106</th>\n",
       "      <td>2010</td>\n",
       "      <td>Выдача наличных в АТМ Сбербанк России</td>\n",
       "    </tr>\n",
       "  </tbody>\n",
       "</table>\n",
       "</div>"
      ],
      "text/plain": [
       "     tr_type                                     tr_description\n",
       "59      7070  Перевод на карту (с карты) через Мобильный бан...\n",
       "98      1010                              Покупка. POS ТУ СБ РФ\n",
       "99      1030                     Оплата услуги. Банкоматы СБ РФ\n",
       "101     1110                             Покупка. POS ТУ Россия\n",
       "106     2010              Выдача наличных в АТМ Сбербанк России"
      ]
     },
     "execution_count": 291,
     "metadata": {},
     "output_type": "execute_result"
    }
   ],
   "source": [
    "tr_types_all = pd.read_csv(\"Python And Data Analysis/data/tr_types.csv\", sep = ';')\n",
    "tr_types_all[tr_types_all['tr_type'].isin([1010, 2010, 7070, 1110, 1030])]\n",
    "#tr_types[tr_types['tr_type'].isin[1010,2010,7070,1110,1030]]"
   ]
  },
  {
   "cell_type": "markdown",
   "metadata": {},
   "source": [
    "#### Task 7.\n",
    "1. В датафрейме transactions задайте столбец  customer_id в качестве индекса.\n",
    "2. Выделите клиента с максимальной суммой транзакции (то есть с максимальным приходом на карту). (\\*)\n",
    "3. Найдите у него наиболее часто встречающийся модуль суммы приходов/расходов. (\\**)\n",
    "\n",
    "\n",
    "#### Выберите все верные пункты:\n",
    "    - 1) 1122957.89\n",
    "    - 2) 15721.41\n",
    "    - 3) 22459.16\n",
    "    - 4) 13475494.63\n",
    "    - 5) 107407.78\n",
    "    - 6) 65019.26\n",
    "\n",
    "#### Ответ:\n",
    "3\n",
    "\n",
    "##### Пояснения:\n",
    "(\\*) Если у клиента были транзакции [-10000, 10, 0, -10], то максимумом будет являться значение 10. <br>\n",
    "(\\**) Если у клиента были транзакции [-10000, 10, 0, -10], то наиболее встречающийся модуль суммы транзакций равен 10, и встретился он 2 раза."
   ]
  },
  {
   "cell_type": "code",
   "execution_count": 303,
   "metadata": {
    "scrolled": true
   },
   "outputs": [
    {
     "data": {
      "text/html": [
       "<div>\n",
       "<style scoped>\n",
       "    .dataframe tbody tr th:only-of-type {\n",
       "        vertical-align: middle;\n",
       "    }\n",
       "\n",
       "    .dataframe tbody tr th {\n",
       "        vertical-align: top;\n",
       "    }\n",
       "\n",
       "    .dataframe thead th {\n",
       "        text-align: right;\n",
       "    }\n",
       "</style>\n",
       "<table border=\"1\" class=\"dataframe\">\n",
       "  <thead>\n",
       "    <tr style=\"text-align: right;\">\n",
       "      <th></th>\n",
       "      <th>customer_id</th>\n",
       "      <th>tr_type</th>\n",
       "      <th>amount</th>\n",
       "    </tr>\n",
       "  </thead>\n",
       "  <tbody>\n",
       "    <tr>\n",
       "      <th>308597</th>\n",
       "      <td>26782922</td>\n",
       "      <td>7070</td>\n",
       "      <td>145984525.0</td>\n",
       "    </tr>\n",
       "  </tbody>\n",
       "</table>\n",
       "</div>"
      ],
      "text/plain": [
       "        customer_id  tr_type       amount\n",
       "308597     26782922     7070  145984525.0"
      ]
     },
     "execution_count": 303,
     "metadata": {},
     "output_type": "execute_result"
    }
   ],
   "source": [
    "### Type your code here\n",
    "#transact.index = transact['customer_id']\n",
    "round(transact[transact['amount'] == transact['amount'].max()])"
   ]
  },
  {
   "cell_type": "code",
   "execution_count": 319,
   "metadata": {},
   "outputs": [
    {
     "name": "stdout",
     "output_type": "stream",
     "text": [
      "        customer_id  tr_type     amount\n",
      "308595     26782922     2010 -3368874.0\n",
      "        customer_id  tr_type       amount\n",
      "308596     26782922     2370 -145984525.0\n",
      "        customer_id  tr_type       amount\n",
      "308597     26782922     7070  145984525.0\n",
      "        customer_id  tr_type   amount\n",
      "308598     26782922     1030 -22459.0\n"
     ]
    }
   ],
   "source": [
    "print(round(transact[transact.index == 308595]))\n",
    "print(round(transact[transact.index == 308596]))\n",
    "print(round(transact[transact.index == 308597]))\n",
    "print(round(transact[transact.index == 308598]))"
   ]
  },
  {
   "cell_type": "code",
   "execution_count": 334,
   "metadata": {},
   "outputs": [
    {
     "data": {
      "text/plain": [
       "22459.0      25\n",
       "15721.0      12\n",
       "4491832.0     7\n",
       "1122958.0     6\n",
       "3368874.0     5\n",
       "Name: abs_amount, dtype: int64"
      ]
     },
     "execution_count": 334,
     "metadata": {},
     "output_type": "execute_result"
    }
   ],
   "source": [
    "transact['abs_amount'] = round(transact['amount'].abs())\n",
    "transact['abs_amount'][transact['customer_id'] == 26782922].value_counts().head()"
   ]
  },
  {
   "cell_type": "markdown",
   "metadata": {},
   "source": [
    "#### Task 8.\n",
    "1. Найдите максимальную разницу между парой из следующих значений (\\*):\n",
    "    - Медиана суммы транзакций\n",
    "    - Медиана суммы транзакций по тем строкам, которые ни в одном из своих столбцов не содержат пустые значения\n",
    "    - Медиана суммы упорядоченного по столбцу amount датафрейма transactions, у которого удалены дублирующиеся по столбцам [mcc_code, tr_type] строки, причём при удалении соответстующих дублей остаются только последние из дублирующихся строк (keep='last')\n",
    "\n",
    "Выведите ответ в виде вещественного числа, округлённого до двух знаков после запятой, отделив дробную часть точкой в формате \"123.45\"\n",
    "\n",
    "#### Ответ\n",
    "-4693.96 - не правильно\n",
    "\n",
    "8961.2\n",
    "\n",
    "##### Пояснения:\n",
    "(\\*) Для вычисления максимальной разницы между значениями списка можно использовать функцию np.ptp  \n",
    "(\\**) Если в результате получились значения [1,3,5], то макимальная разница между ними 4 == 5-1."
   ]
  },
  {
   "cell_type": "code",
   "execution_count": 406,
   "metadata": {
    "scrolled": true
   },
   "outputs": [
    {
     "data": {
      "text/plain": [
       "8961.2"
      ]
     },
     "execution_count": 406,
     "metadata": {},
     "output_type": "execute_result"
    }
   ],
   "source": [
    "### Type your code here\n",
    "a = transact['amount'].median()\n",
    "b = transact.drop_duplicates(['mcc_code', 'tr_type'], keep='last').sort_values(['amount'])['amount'].median()\n",
    "a - b"
   ]
  }
 ],
 "metadata": {
  "hide_input": false,
  "kernelspec": {
   "display_name": "Python 3",
   "language": "python",
   "name": "python3"
  },
  "language_info": {
   "codemirror_mode": {
    "name": "ipython",
    "version": 3
   },
   "file_extension": ".py",
   "mimetype": "text/x-python",
   "name": "python",
   "nbconvert_exporter": "python",
   "pygments_lexer": "ipython3",
   "version": "3.7.3"
  },
  "toc": {
   "base_numbering": 1,
   "nav_menu": {},
   "number_sections": true,
   "sideBar": true,
   "skip_h1_title": false,
   "title_cell": "Table of Contents",
   "title_sidebar": "Contents",
   "toc_cell": false,
   "toc_position": {},
   "toc_section_display": true,
   "toc_window_display": false
  },
  "varInspector": {
   "cols": {
    "lenName": 16,
    "lenType": 16,
    "lenVar": 40
   },
   "kernels_config": {
    "python": {
     "delete_cmd_postfix": "",
     "delete_cmd_prefix": "del ",
     "library": "var_list.py",
     "varRefreshCmd": "print(var_dic_list())"
    },
    "r": {
     "delete_cmd_postfix": ") ",
     "delete_cmd_prefix": "rm(",
     "library": "var_list.r",
     "varRefreshCmd": "cat(var_dic_list()) "
    }
   },
   "types_to_exclude": [
    "module",
    "function",
    "builtin_function_or_method",
    "instance",
    "_Feature"
   ],
   "window_display": false
  }
 },
 "nbformat": 4,
 "nbformat_minor": 2
}
